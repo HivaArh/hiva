{
  "nbformat": 4,
  "nbformat_minor": 0,
  "metadata": {
    "colab": {
      "provenance": [],
      "authorship_tag": "ABX9TyNxMDFGbKXRAQ4xhgpQU5Wz",
      "include_colab_link": true
    },
    "kernelspec": {
      "name": "python3",
      "display_name": "Python 3"
    },
    "language_info": {
      "name": "python"
    }
  },
  "cells": [
    {
      "cell_type": "markdown",
      "metadata": {
        "id": "view-in-github",
        "colab_type": "text"
      },
      "source": [
        "<a href=\"https://colab.research.google.com/github/HivaArh/hiva/blob/main/Untitled0.ipynb\" target=\"_parent\"><img src=\"https://colab.research.google.com/assets/colab-badge.svg\" alt=\"Open In Colab\"/></a>"
      ]
    },
    {
      "cell_type": "code",
      "execution_count": 12,
      "metadata": {
        "id": "Fpg8yvVDZ-k2"
      },
      "outputs": [],
      "source": [
        "import numpy as np\n",
        "import time\n",
        "import matplotlib.pyplot as plt\n",
        "import random\n",
        "import pandas as pd\n",
        "import seaborn as sns\n"
      ]
    },
    {
      "cell_type": "code",
      "source": [
        "def avg(s):\n",
        "  n=len(s)\n",
        "  a=[0]*n\n",
        "  for j in range (n):\n",
        "    total=0\n",
        "    for i in range (j+1):\n",
        "      total+=s[i]\n",
        "      a[j]=total/(j+1)\n",
        "  return a\n"
      ],
      "metadata": {
        "id": "cTx6DKqMdOyJ"
      },
      "execution_count": 13,
      "outputs": []
    },
    {
      "cell_type": "code",
      "source": [
        "s=time.process_time()\n",
        "e=time.process_time()\n",
        "e-s"
      ],
      "metadata": {
        "colab": {
          "base_uri": "https://localhost:8080/"
        },
        "id": "y23QeN4mfda2",
        "outputId": "3e30308b-1dcb-4478-aa56-e957b6451ee0"
      },
      "execution_count": 14,
      "outputs": [
        {
          "output_type": "execute_result",
          "data": {
            "text/plain": [
              "6.319999999959691e-05"
            ]
          },
          "metadata": {},
          "execution_count": 14
        }
      ]
    },
    {
      "cell_type": "code",
      "source": [],
      "metadata": {
        "id": "JWpaJOx_imaI"
      },
      "execution_count": null,
      "outputs": []
    },
    {
      "cell_type": "code",
      "source": [
        "def disjoint(A,B,C):\n",
        "  for a in A:\n",
        "    for b in B:\n",
        "      if a==b:\n",
        "        for c in C:\n",
        "          if a==c:\n",
        "            return False\n",
        "  return True\n",
        "\n",
        ""
      ],
      "metadata": {
        "id": "Mx4W0-ELj3Fr"
      },
      "execution_count": 29,
      "outputs": []
    },
    {
      "cell_type": "code",
      "source": [
        "s=time.process_time()\n",
        "e=time.process_time()\n",
        "e-s"
      ],
      "metadata": {
        "colab": {
          "base_uri": "https://localhost:8080/"
        },
        "id": "mvrGXhRzkohe",
        "outputId": "5413e111-1470-47cb-dc5c-87a8bcbbb98e"
      },
      "execution_count": 30,
      "outputs": [
        {
          "output_type": "execute_result",
          "data": {
            "text/plain": [
              "6.839999999996849e-05"
            ]
          },
          "metadata": {},
          "execution_count": 30
        }
      ]
    },
    {
      "cell_type": "code",
      "source": [
        "def r(a):\n",
        "  n=len(a)\n",
        "  x=[None]*n\n",
        "  for i in range(n):\n",
        "    x[n-1-i]=a[i]\n",
        "    return x"
      ],
      "metadata": {
        "id": "rqwBEc2ulLB0"
      },
      "execution_count": 31,
      "outputs": []
    },
    {
      "cell_type": "code",
      "source": [
        "s=time.process_time()\n",
        "e=time.process_time()\n",
        "e-s"
      ],
      "metadata": {
        "colab": {
          "base_uri": "https://localhost:8080/"
        },
        "id": "7ssTCelAl0Xm",
        "outputId": "e67e086e-fd8d-44e2-bc85-3aa305ed6a79"
      },
      "execution_count": 32,
      "outputs": [
        {
          "output_type": "execute_result",
          "data": {
            "text/plain": [
              "6.44980000004125e-05"
            ]
          },
          "metadata": {},
          "execution_count": 32
        }
      ]
    },
    {
      "cell_type": "code",
      "source": [],
      "metadata": {
        "id": "_8hIWNv_l3uC"
      },
      "execution_count": null,
      "outputs": []
    }
  ]
}